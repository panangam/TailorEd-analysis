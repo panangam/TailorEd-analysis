{
 "cells": [
  {
   "cell_type": "code",
   "execution_count": 2,
   "metadata": {},
   "outputs": [],
   "source": [
    "import pandas as pd\n",
    "import matplotlib.pyplot as plt"
   ]
  },
  {
   "cell_type": "code",
   "execution_count": 3,
   "metadata": {},
   "outputs": [],
   "source": [
    "# read all tables and assign indices\n",
    "\n",
    "# this is IR spreadsheet of classes data\n",
    "classes = pd.read_csv('data/IR_spreadsheet.csv', index_col='section_number')\n",
    "\n",
    "# this is the data we are waiting for: grades of students related with race, gender, etc\n",
    "outcome = pd.read_csv('mock_up_data/tailored_mock_data_OutcomeProfile.csv')\n",
    "\n",
    "# this is the output from our CCID neural network \n",
    "roomConfig = pd.read_csv('mock_up_data/tailored_mock_data_RoomConfig.csv', index_col=['section_number', 'meeting_number'])"
   ]
  },
  {
   "cell_type": "code",
   "execution_count": 4,
   "metadata": {},
   "outputs": [],
   "source": [
    "# drop duplicates\n",
    "classes = classes.drop_duplicates()"
   ]
  },
  {
   "cell_type": "code",
   "execution_count": 7,
   "metadata": {},
   "outputs": [
    {
     "data": {
      "text/html": [
       "<div>\n",
       "<style scoped>\n",
       "    .dataframe tbody tr th:only-of-type {\n",
       "        vertical-align: middle;\n",
       "    }\n",
       "\n",
       "    .dataframe tbody tr th {\n",
       "        vertical-align: top;\n",
       "    }\n",
       "\n",
       "    .dataframe thead th {\n",
       "        text-align: right;\n",
       "    }\n",
       "</style>\n",
       "<table border=\"1\" class=\"dataframe\">\n",
       "  <thead>\n",
       "    <tr style=\"text-align: right;\">\n",
       "      <th></th>\n",
       "      <th>section_number</th>\n",
       "      <th>gpa</th>\n",
       "      <th>race</th>\n",
       "      <th>gender</th>\n",
       "    </tr>\n",
       "  </thead>\n",
       "  <tbody>\n",
       "    <tr>\n",
       "      <td>0</td>\n",
       "      <td>10205</td>\n",
       "      <td>3.5</td>\n",
       "      <td>asian</td>\n",
       "      <td>m</td>\n",
       "    </tr>\n",
       "    <tr>\n",
       "      <td>1</td>\n",
       "      <td>10205</td>\n",
       "      <td>3.5</td>\n",
       "      <td>asian</td>\n",
       "      <td>f</td>\n",
       "    </tr>\n",
       "    <tr>\n",
       "      <td>2</td>\n",
       "      <td>10205</td>\n",
       "      <td>4.0</td>\n",
       "      <td>caucasian</td>\n",
       "      <td>m</td>\n",
       "    </tr>\n",
       "    <tr>\n",
       "      <td>3</td>\n",
       "      <td>10205</td>\n",
       "      <td>3.2</td>\n",
       "      <td>african</td>\n",
       "      <td>m</td>\n",
       "    </tr>\n",
       "    <tr>\n",
       "      <td>4</td>\n",
       "      <td>10205</td>\n",
       "      <td>3.2</td>\n",
       "      <td>asian</td>\n",
       "      <td>f</td>\n",
       "    </tr>\n",
       "    <tr>\n",
       "      <td>5</td>\n",
       "      <td>10205</td>\n",
       "      <td>3.6</td>\n",
       "      <td>asian</td>\n",
       "      <td>m</td>\n",
       "    </tr>\n",
       "    <tr>\n",
       "      <td>6</td>\n",
       "      <td>10205</td>\n",
       "      <td>4.0</td>\n",
       "      <td>african</td>\n",
       "      <td>f</td>\n",
       "    </tr>\n",
       "    <tr>\n",
       "      <td>7</td>\n",
       "      <td>10205</td>\n",
       "      <td>2.5</td>\n",
       "      <td>cauciasian</td>\n",
       "      <td>f</td>\n",
       "    </tr>\n",
       "    <tr>\n",
       "      <td>8</td>\n",
       "      <td>10205</td>\n",
       "      <td>2.2</td>\n",
       "      <td>caucasian</td>\n",
       "      <td>m</td>\n",
       "    </tr>\n",
       "    <tr>\n",
       "      <td>9</td>\n",
       "      <td>10205</td>\n",
       "      <td>2.7</td>\n",
       "      <td>caucasian</td>\n",
       "      <td>f</td>\n",
       "    </tr>\n",
       "    <tr>\n",
       "      <td>10</td>\n",
       "      <td>10791</td>\n",
       "      <td>3.0</td>\n",
       "      <td>asian</td>\n",
       "      <td>m</td>\n",
       "    </tr>\n",
       "    <tr>\n",
       "      <td>11</td>\n",
       "      <td>10791</td>\n",
       "      <td>2.0</td>\n",
       "      <td>asian</td>\n",
       "      <td>f</td>\n",
       "    </tr>\n",
       "    <tr>\n",
       "      <td>12</td>\n",
       "      <td>10791</td>\n",
       "      <td>4.0</td>\n",
       "      <td>caucasian</td>\n",
       "      <td>m</td>\n",
       "    </tr>\n",
       "    <tr>\n",
       "      <td>13</td>\n",
       "      <td>10791</td>\n",
       "      <td>3.5</td>\n",
       "      <td>african</td>\n",
       "      <td>m</td>\n",
       "    </tr>\n",
       "    <tr>\n",
       "      <td>14</td>\n",
       "      <td>10791</td>\n",
       "      <td>2.5</td>\n",
       "      <td>asian</td>\n",
       "      <td>f</td>\n",
       "    </tr>\n",
       "    <tr>\n",
       "      <td>15</td>\n",
       "      <td>10791</td>\n",
       "      <td>3.3</td>\n",
       "      <td>asian</td>\n",
       "      <td>m</td>\n",
       "    </tr>\n",
       "    <tr>\n",
       "      <td>16</td>\n",
       "      <td>10791</td>\n",
       "      <td>2.2</td>\n",
       "      <td>african</td>\n",
       "      <td>f</td>\n",
       "    </tr>\n",
       "    <tr>\n",
       "      <td>17</td>\n",
       "      <td>10791</td>\n",
       "      <td>4.0</td>\n",
       "      <td>cauciasian</td>\n",
       "      <td>f</td>\n",
       "    </tr>\n",
       "    <tr>\n",
       "      <td>18</td>\n",
       "      <td>10791</td>\n",
       "      <td>1.0</td>\n",
       "      <td>caucasian</td>\n",
       "      <td>m</td>\n",
       "    </tr>\n",
       "    <tr>\n",
       "      <td>19</td>\n",
       "      <td>10791</td>\n",
       "      <td>0.0</td>\n",
       "      <td>caucasian</td>\n",
       "      <td>f</td>\n",
       "    </tr>\n",
       "  </tbody>\n",
       "</table>\n",
       "</div>"
      ],
      "text/plain": [
       "    section_number  gpa        race gender\n",
       "0            10205  3.5       asian      m\n",
       "1            10205  3.5       asian      f\n",
       "2            10205  4.0   caucasian      m\n",
       "3            10205  3.2     african      m\n",
       "4            10205  3.2       asian      f\n",
       "5            10205  3.6       asian      m\n",
       "6            10205  4.0    african       f\n",
       "7            10205  2.5  cauciasian      f\n",
       "8            10205  2.2   caucasian      m\n",
       "9            10205  2.7   caucasian      f\n",
       "10           10791  3.0       asian      m\n",
       "11           10791  2.0       asian      f\n",
       "12           10791  4.0   caucasian      m\n",
       "13           10791  3.5     african      m\n",
       "14           10791  2.5       asian      f\n",
       "15           10791  3.3       asian      m\n",
       "16           10791  2.2    african       f\n",
       "17           10791  4.0  cauciasian      f\n",
       "18           10791  1.0   caucasian      m\n",
       "19           10791  0.0   caucasian      f"
      ]
     },
     "execution_count": 7,
     "metadata": {},
     "output_type": "execute_result"
    }
   ],
   "source": [
    "outcome"
   ]
  },
  {
   "cell_type": "markdown",
   "metadata": {},
   "source": [
    "## 1. What is the average configuration ratio for section number 10205?"
   ]
  },
  {
   "cell_type": "code",
   "execution_count": 8,
   "metadata": {},
   "outputs": [
    {
     "data": {
      "text/plain": [
       "{'empty': 0.31249999999999994,\n",
       " 'lecture': 0.1325,\n",
       " 'round': 0.21749999999999997,\n",
       " 'groups': 0.3375}"
      ]
     },
     "execution_count": 8,
     "metadata": {},
     "output_type": "execute_result"
    }
   ],
   "source": [
    "sel = roomConfig.loc[10205]\n",
    "config_categories = ['empty', 'lecture', 'round', 'groups']\n",
    "config_percentage = {col: (sel[col]/sel['total_frames']).mean() for col in config_categories}\n",
    "config_percentage"
   ]
  },
  {
   "cell_type": "code",
   "execution_count": 9,
   "metadata": {},
   "outputs": [
    {
     "name": "stdout",
     "output_type": "stream",
     "text": [
      "Class code: CENG115\n"
     ]
    },
    {
     "data": {
      "image/png": "[encoded data removed]",
      "text/plain": [
       "<Figure size 432x288 with 1 Axes>"
      ]
     },
     "metadata": {
      "needs_background": "light"
     },
     "output_type": "display_data"
    }
   ],
   "source": [
    "print('Class code: %s%s' % (classes.loc['10205'].subject, classes.loc['10205'].course_number))\n",
    "plt.bar(range(len(config_percentage)), config_percentage.values())\n",
    "plt.xticks(range(len(config_percentage)), config_percentage.keys())\n",
    "plt.show()"
   ]
  },
  {
   "cell_type": "markdown",
   "metadata": {},
   "source": [
    "## 2. Based on ethnicities of the students, what's the avergae grade?\n",
    "\n",
    "So will need to get a dictionary of gpa and dictionary of config ratio with ethnicities as keys"
   ]
  },
  {
   "cell_type": "code",
   "execution_count": 16,
   "metadata": {},
   "outputs": [],
   "source": [
    "# get a list of all races\n",
    "races = outcome.race.unique()\n",
    "\n",
    "# select just a race and find students with that race\n",
    "r = races[0] # asian\n",
    "sel = outcome[outcome.race==r]\n",
    "\n",
    "# get average gpa\n",
    "asian_gpa = sel.gpa.mean()"
   ]
  }
 ],
 "metadata": {
  "kernelspec": {
   "display_name": "Python 3",
   "language": "python",
   "name": "python3"
  },
  "language_info": {
   "codemirror_mode": {
    "name": "ipython",
    "version": 3
   },
   "file_extension": ".py",
   "mimetype": "text/x-python",
   "name": "python",
   "nbconvert_exporter": "python",
   "pygments_lexer": "ipython3",
   "version": "3.7.4"
  }
 },
 "nbformat": 4,
 "nbformat_minor": 4
}
