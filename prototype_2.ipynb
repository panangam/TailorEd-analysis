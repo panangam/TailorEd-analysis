{
 "cells": [
  {
   "cell_type": "markdown",
   "metadata": {},
   "source": [
    "This file tries to read the output from CCID as given in xlsx files by Liying. However, as I have emailed her, and got no reply, the format which segments each data **POINT** into a separate **SHEET** is extremely cumbersome to deal with. Since each sheet has a fixed format, a data point should simply be represented as a row in the table, which each attribute as a column. If possible at all, I'd love the neural network team to reformat the output of the algorithm.\n",
    "\n",
    "Anyway, here's my attempt at consuming it."
   ]
  },
  {
   "cell_type": "code",
   "execution_count": 1,
   "metadata": {},
   "outputs": [],
   "source": [
    "import pandas as pd"
   ]
  },
  {
   "cell_type": "code",
   "execution_count": 20,
   "metadata": {},
   "outputs": [],
   "source": [
    "sheets = pd.read_excel('data/Fall 2014.xlsx', sheet_name=None)"
   ]
  },
  {
   "cell_type": "code",
   "execution_count": 42,
   "metadata": {},
   "outputs": [],
   "source": [
    "class_config_list = []\n",
    "for section_num in sheets.keys():\n",
    "    ratio = sheets[section_num].iloc[1:,-2]\n",
    "    ratio.name = section_num\n",
    "    class_config_list.append(ratio)\n",
    "class_config_2014_fall = pd.DataFrame(class_config_list)\n",
    "class_config_2014_fall.columns = ['empty', 'groups', 'lecture', 'round']"
   ]
  },
  {
   "cell_type": "code",
   "execution_count": 43,
   "metadata": {},
   "outputs": [
    {
     "data": {
      "text/html": [
       "<div>\n",
       "<style scoped>\n",
       "    .dataframe tbody tr th:only-of-type {\n",
       "        vertical-align: middle;\n",
       "    }\n",
       "\n",
       "    .dataframe tbody tr th {\n",
       "        vertical-align: top;\n",
       "    }\n",
       "\n",
       "    .dataframe thead th {\n",
       "        text-align: right;\n",
       "    }\n",
       "</style>\n",
       "<table border=\"1\" class=\"dataframe\">\n",
       "  <thead>\n",
       "    <tr style=\"text-align: right;\">\n",
       "      <th></th>\n",
       "      <th>empty</th>\n",
       "      <th>groups</th>\n",
       "      <th>lecture</th>\n",
       "      <th>round</th>\n",
       "    </tr>\n",
       "  </thead>\n",
       "  <tbody>\n",
       "    <tr>\n",
       "      <td>10205</td>\n",
       "      <td>33</td>\n",
       "      <td>202</td>\n",
       "      <td>42</td>\n",
       "      <td>1</td>\n",
       "    </tr>\n",
       "    <tr>\n",
       "      <td>10536</td>\n",
       "      <td>0</td>\n",
       "      <td>11</td>\n",
       "      <td>210</td>\n",
       "      <td>0</td>\n",
       "    </tr>\n",
       "    <tr>\n",
       "      <td>10791</td>\n",
       "      <td>149</td>\n",
       "      <td>84</td>\n",
       "      <td>41</td>\n",
       "      <td>4</td>\n",
       "    </tr>\n",
       "    <tr>\n",
       "      <td>10820</td>\n",
       "      <td>8</td>\n",
       "      <td>120</td>\n",
       "      <td>122</td>\n",
       "      <td>3</td>\n",
       "    </tr>\n",
       "    <tr>\n",
       "      <td>10954</td>\n",
       "      <td>188</td>\n",
       "      <td>17</td>\n",
       "      <td>21</td>\n",
       "      <td>0</td>\n",
       "    </tr>\n",
       "    <tr>\n",
       "      <td>11025</td>\n",
       "      <td>5</td>\n",
       "      <td>60</td>\n",
       "      <td>134</td>\n",
       "      <td>29</td>\n",
       "    </tr>\n",
       "    <tr>\n",
       "      <td>11026</td>\n",
       "      <td>3</td>\n",
       "      <td>16</td>\n",
       "      <td>120</td>\n",
       "      <td>35</td>\n",
       "    </tr>\n",
       "    <tr>\n",
       "      <td>11052</td>\n",
       "      <td>10</td>\n",
       "      <td>109</td>\n",
       "      <td>142</td>\n",
       "      <td>0</td>\n",
       "    </tr>\n",
       "    <tr>\n",
       "      <td>11052_2</td>\n",
       "      <td>20</td>\n",
       "      <td>114</td>\n",
       "      <td>101</td>\n",
       "      <td>0</td>\n",
       "    </tr>\n",
       "    <tr>\n",
       "      <td>11055</td>\n",
       "      <td>7</td>\n",
       "      <td>5</td>\n",
       "      <td>100</td>\n",
       "      <td>0</td>\n",
       "    </tr>\n",
       "    <tr>\n",
       "      <td>11187</td>\n",
       "      <td>49</td>\n",
       "      <td>46</td>\n",
       "      <td>130</td>\n",
       "      <td>8</td>\n",
       "    </tr>\n",
       "    <tr>\n",
       "      <td>11200</td>\n",
       "      <td>6</td>\n",
       "      <td>17</td>\n",
       "      <td>108</td>\n",
       "      <td>0</td>\n",
       "    </tr>\n",
       "    <tr>\n",
       "      <td>11254</td>\n",
       "      <td>4</td>\n",
       "      <td>55</td>\n",
       "      <td>17</td>\n",
       "      <td>12</td>\n",
       "    </tr>\n",
       "    <tr>\n",
       "      <td>11407</td>\n",
       "      <td>127</td>\n",
       "      <td>53</td>\n",
       "      <td>14</td>\n",
       "      <td>88</td>\n",
       "    </tr>\n",
       "    <tr>\n",
       "      <td>11420</td>\n",
       "      <td>15</td>\n",
       "      <td>45</td>\n",
       "      <td>221</td>\n",
       "      <td>0</td>\n",
       "    </tr>\n",
       "    <tr>\n",
       "      <td>11440</td>\n",
       "      <td>6</td>\n",
       "      <td>5</td>\n",
       "      <td>111</td>\n",
       "      <td>113</td>\n",
       "    </tr>\n",
       "  </tbody>\n",
       "</table>\n",
       "</div>"
      ],
      "text/plain": [
       "         empty  groups  lecture  round\n",
       "10205       33     202       42      1\n",
       "10536        0      11      210      0\n",
       "10791      149      84       41      4\n",
       "10820        8     120      122      3\n",
       "10954      188      17       21      0\n",
       "11025        5      60      134     29\n",
       "11026        3      16      120     35\n",
       "11052       10     109      142      0\n",
       "11052_2     20     114      101      0\n",
       "11055        7       5      100      0\n",
       "11187       49      46      130      8\n",
       "11200        6      17      108      0\n",
       "11254        4      55       17     12\n",
       "11407      127      53       14     88\n",
       "11420       15      45      221      0\n",
       "11440        6       5      111    113"
      ]
     },
     "execution_count": 43,
     "metadata": {},
     "output_type": "execute_result"
    }
   ],
   "source": [
    "class_config_2014_fall"
   ]
  },
  {
   "cell_type": "code",
   "execution_count": 44,
   "metadata": {},
   "outputs": [
    {
     "data": {
      "text/plain": [
       "empty      0.160879\n",
       "groups     0.265758\n",
       "lecture    0.490751\n",
       "round      0.082612\n",
       "dtype: float64"
      ]
     },
     "execution_count": 44,
     "metadata": {},
     "output_type": "execute_result"
    }
   ],
   "source": [
    "df = class_config_2014_fall\n",
    "frames_count = df.sum(axis=1)\n",
    "for col in df.columns:\n",
    "    df[col] /= frames_count\n",
    "df.mean()"
   ]
  }
 ],
 "metadata": {
  "kernelspec": {
   "display_name": "Python 3",
   "language": "python",
   "name": "python3"
  },
  "language_info": {
   "codemirror_mode": {
    "name": "ipython",
    "version": 3
   },
   "file_extension": ".py",
   "mimetype": "text/x-python",
   "name": "python",
   "nbconvert_exporter": "python",
   "pygments_lexer": "ipython3",
   "version": "3.7.4"
  }
 },
 "nbformat": 4,
 "nbformat_minor": 4
}
