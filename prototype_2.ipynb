{
 "cells": [
  {
   "cell_type": "markdown",
   "metadata": {},
   "source": [
    "This file tries to read the output from CCID as given in xlsx files by Liying. However, as I have emailed her, and got no reply, the format which segments each data **POINT** into a separate **SHEET** is extremely cumbersome to deal with. Since each sheet has a fixed format, a data point should simply be represented as a row in the table, which each attribute as a column. If possible at all, I'd love the neural network team to reformat the output of the algorithm.\n",
    "\n",
    "Anyway, here's my attempt at consuming it."
   ]
  },
  {
   "cell_type": "code",
   "execution_count": 2,
   "metadata": {},
   "outputs": [],
   "source": [
    "import pandas as pd"
   ]
  },
  {
   "cell_type": "code",
   "execution_count": 16,
   "metadata": {},
   "outputs": [],
   "source": [
    "sheets = pd.read_excel('data/Winter 2016.xlsx', sheet_name=None)"
   ]
  },
  {
   "cell_type": "code",
   "execution_count": 17,
   "metadata": {},
   "outputs": [],
   "source": [
    "class_config_list = []\n",
    "for section_num in sheets.keys():\n",
    "    ratio = sheets[section_num].iloc[:,-2]\n",
    "    ratio.name = section_num\n",
    "    class_config_list.append(ratio)\n",
    "class_config_2014_fall = pd.DataFrame(class_config_list)\n",
    "class_config_2014_fall.columns = ['empty', 'groups', 'lecture', 'round']"
   ]
  },
  {
   "cell_type": "code",
   "execution_count": 18,
   "metadata": {},
   "outputs": [
    {
     "data": {
      "text/html": [
       "<div>\n",
       "<style scoped>\n",
       "    .dataframe tbody tr th:only-of-type {\n",
       "        vertical-align: middle;\n",
       "    }\n",
       "\n",
       "    .dataframe tbody tr th {\n",
       "        vertical-align: top;\n",
       "    }\n",
       "\n",
       "    .dataframe thead th {\n",
       "        text-align: right;\n",
       "    }\n",
       "</style>\n",
       "<table border=\"1\" class=\"dataframe\">\n",
       "  <thead>\n",
       "    <tr style=\"text-align: right;\">\n",
       "      <th></th>\n",
       "      <th>empty</th>\n",
       "      <th>groups</th>\n",
       "      <th>lecture</th>\n",
       "      <th>round</th>\n",
       "    </tr>\n",
       "  </thead>\n",
       "  <tbody>\n",
       "    <tr>\n",
       "      <th>30830</th>\n",
       "      <td>0</td>\n",
       "      <td>18</td>\n",
       "      <td>1522</td>\n",
       "      <td>0</td>\n",
       "    </tr>\n",
       "    <tr>\n",
       "      <th>31613</th>\n",
       "      <td>0</td>\n",
       "      <td>0</td>\n",
       "      <td>735</td>\n",
       "      <td>0</td>\n",
       "    </tr>\n",
       "    <tr>\n",
       "      <th>32944</th>\n",
       "      <td>0</td>\n",
       "      <td>26</td>\n",
       "      <td>1266</td>\n",
       "      <td>21</td>\n",
       "    </tr>\n",
       "  </tbody>\n",
       "</table>\n",
       "</div>"
      ],
      "text/plain": [
       "       empty  groups  lecture  round\n",
       "30830      0      18     1522      0\n",
       "31613      0       0      735      0\n",
       "32944      0      26     1266     21"
      ]
     },
     "execution_count": 18,
     "metadata": {},
     "output_type": "execute_result"
    }
   ],
   "source": [
    "class_config_2014_fall"
   ]
  },
  {
   "cell_type": "code",
   "execution_count": 20,
   "metadata": {},
   "outputs": [
    {
     "data": {
      "text/plain": [
       "empty      0.000000\n",
       "groups     0.010497\n",
       "lecture    0.984172\n",
       "round      0.005331\n",
       "dtype: float64"
      ]
     },
     "execution_count": 20,
     "metadata": {},
     "output_type": "execute_result"
    }
   ],
   "source": [
    "df = class_config_2014_fall\n",
    "frames_count = df.sum(axis=1)\n",
    "for col in df.columns:\n",
    "    df[col] /= frames_count\n",
    "df.mean()"
   ]
  }
 ],
 "metadata": {
  "kernelspec": {
   "display_name": "Python 3",
   "language": "python",
   "name": "python3"
  },
  "language_info": {
   "codemirror_mode": {
    "name": "ipython",
    "version": 3
   },
   "file_extension": ".py",
   "mimetype": "text/x-python",
   "name": "python",
   "nbconvert_exporter": "python",
   "pygments_lexer": "ipython3",
   "version": "3.7.4"
  }
 },
 "nbformat": 4,
 "nbformat_minor": 4
}
